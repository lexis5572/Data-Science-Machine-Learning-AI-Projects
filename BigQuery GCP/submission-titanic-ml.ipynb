{
 "cells": [
  {
   "cell_type": "code",
   "execution_count": 1,
   "id": "73d30150",
   "metadata": {
    "execution": {
     "iopub.execute_input": "2024-12-09T06:25:28.934754Z",
     "iopub.status.busy": "2024-12-09T06:25:28.934308Z",
     "iopub.status.idle": "2024-12-09T06:25:29.877694Z",
     "shell.execute_reply": "2024-12-09T06:25:29.876525Z"
    },
    "papermill": {
     "duration": 0.950186,
     "end_time": "2024-12-09T06:25:29.880071",
     "exception": false,
     "start_time": "2024-12-09T06:25:28.929885",
     "status": "completed"
    },
    "tags": []
   },
   "outputs": [],
   "source": [
    "import pandas as pd\n",
    "\n",
    "data = pd.read_csv('/kaggle/input/sub-titanic/bigquery2.csv')\n",
    "sample_submission = pd.read_csv('/kaggle/input/titanic/gender_submission.csv')"
   ]
  },
  {
   "cell_type": "code",
   "execution_count": 2,
   "id": "96e483e2",
   "metadata": {
    "execution": {
     "iopub.execute_input": "2024-12-09T06:25:29.886252Z",
     "iopub.status.busy": "2024-12-09T06:25:29.885899Z",
     "iopub.status.idle": "2024-12-09T06:25:29.902545Z",
     "shell.execute_reply": "2024-12-09T06:25:29.901459Z"
    },
    "papermill": {
     "duration": 0.02237,
     "end_time": "2024-12-09T06:25:29.904897",
     "exception": false,
     "start_time": "2024-12-09T06:25:29.882527",
     "status": "completed"
    },
    "tags": []
   },
   "outputs": [],
   "source": [
    "# Create a submission file from the 'results.csv' data\n",
    "submission_df = data[['PassengerId', 'predicted_Survived']].rename(columns={'predicted_Survived': 'Survived'})"
   ]
  },
  {
   "cell_type": "code",
   "execution_count": 3,
   "id": "dd998aad",
   "metadata": {
    "execution": {
     "iopub.execute_input": "2024-12-09T06:25:29.910289Z",
     "iopub.status.busy": "2024-12-09T06:25:29.909964Z",
     "iopub.status.idle": "2024-12-09T06:25:29.915790Z",
     "shell.execute_reply": "2024-12-09T06:25:29.914933Z"
    },
    "papermill": {
     "duration": 0.01071,
     "end_time": "2024-12-09T06:25:29.917685",
     "exception": false,
     "start_time": "2024-12-09T06:25:29.906975",
     "status": "completed"
    },
    "tags": []
   },
   "outputs": [],
   "source": [
    "submission_df['Survived'] = submission_df['Survived'].astype(int)"
   ]
  },
  {
   "cell_type": "code",
   "execution_count": 4,
   "id": "ee637015",
   "metadata": {
    "execution": {
     "iopub.execute_input": "2024-12-09T06:25:29.923440Z",
     "iopub.status.busy": "2024-12-09T06:25:29.922625Z",
     "iopub.status.idle": "2024-12-09T06:25:29.938614Z",
     "shell.execute_reply": "2024-12-09T06:25:29.937602Z"
    },
    "papermill": {
     "duration": 0.021103,
     "end_time": "2024-12-09T06:25:29.940876",
     "exception": false,
     "start_time": "2024-12-09T06:25:29.919773",
     "status": "completed"
    },
    "tags": []
   },
   "outputs": [
    {
     "data": {
      "text/html": [
       "<div>\n",
       "<style scoped>\n",
       "    .dataframe tbody tr th:only-of-type {\n",
       "        vertical-align: middle;\n",
       "    }\n",
       "\n",
       "    .dataframe tbody tr th {\n",
       "        vertical-align: top;\n",
       "    }\n",
       "\n",
       "    .dataframe thead th {\n",
       "        text-align: right;\n",
       "    }\n",
       "</style>\n",
       "<table border=\"1\" class=\"dataframe\">\n",
       "  <thead>\n",
       "    <tr style=\"text-align: right;\">\n",
       "      <th></th>\n",
       "      <th>PassengerId</th>\n",
       "      <th>Survived</th>\n",
       "    </tr>\n",
       "  </thead>\n",
       "  <tbody>\n",
       "    <tr>\n",
       "      <th>0</th>\n",
       "      <td>264</td>\n",
       "      <td>0</td>\n",
       "    </tr>\n",
       "    <tr>\n",
       "      <th>1</th>\n",
       "      <td>634</td>\n",
       "      <td>0</td>\n",
       "    </tr>\n",
       "    <tr>\n",
       "      <th>2</th>\n",
       "      <td>807</td>\n",
       "      <td>0</td>\n",
       "    </tr>\n",
       "    <tr>\n",
       "      <th>3</th>\n",
       "      <td>816</td>\n",
       "      <td>0</td>\n",
       "    </tr>\n",
       "    <tr>\n",
       "      <th>4</th>\n",
       "      <td>823</td>\n",
       "      <td>0</td>\n",
       "    </tr>\n",
       "    <tr>\n",
       "      <th>...</th>\n",
       "      <td>...</td>\n",
       "      <td>...</td>\n",
       "    </tr>\n",
       "    <tr>\n",
       "      <th>1227</th>\n",
       "      <td>848</td>\n",
       "      <td>0</td>\n",
       "    </tr>\n",
       "    <tr>\n",
       "      <th>1228</th>\n",
       "      <td>871</td>\n",
       "      <td>0</td>\n",
       "    </tr>\n",
       "    <tr>\n",
       "      <th>1229</th>\n",
       "      <td>878</td>\n",
       "      <td>0</td>\n",
       "    </tr>\n",
       "    <tr>\n",
       "      <th>1230</th>\n",
       "      <td>879</td>\n",
       "      <td>0</td>\n",
       "    </tr>\n",
       "    <tr>\n",
       "      <th>1231</th>\n",
       "      <td>882</td>\n",
       "      <td>0</td>\n",
       "    </tr>\n",
       "  </tbody>\n",
       "</table>\n",
       "<p>1232 rows × 2 columns</p>\n",
       "</div>"
      ],
      "text/plain": [
       "      PassengerId  Survived\n",
       "0             264         0\n",
       "1             634         0\n",
       "2             807         0\n",
       "3             816         0\n",
       "4             823         0\n",
       "...           ...       ...\n",
       "1227          848         0\n",
       "1228          871         0\n",
       "1229          878         0\n",
       "1230          879         0\n",
       "1231          882         0\n",
       "\n",
       "[1232 rows x 2 columns]"
      ]
     },
     "execution_count": 4,
     "metadata": {},
     "output_type": "execute_result"
    }
   ],
   "source": [
    "submission_df"
   ]
  },
  {
   "cell_type": "code",
   "execution_count": 5,
   "id": "4b7130fe",
   "metadata": {
    "execution": {
     "iopub.execute_input": "2024-12-09T06:25:29.947294Z",
     "iopub.status.busy": "2024-12-09T06:25:29.946339Z",
     "iopub.status.idle": "2024-12-09T06:25:29.956194Z",
     "shell.execute_reply": "2024-12-09T06:25:29.955034Z"
    },
    "papermill": {
     "duration": 0.015408,
     "end_time": "2024-12-09T06:25:29.958595",
     "exception": false,
     "start_time": "2024-12-09T06:25:29.943187",
     "status": "completed"
    },
    "tags": []
   },
   "outputs": [],
   "source": [
    "# Save the submission file\n",
    "submission_df.to_csv('submission.csv', index=False)"
   ]
  }
 ],
 "metadata": {
  "kaggle": {
   "accelerator": "none",
   "dataSources": [
    {
     "databundleVersionId": 26502,
     "sourceId": 3136,
     "sourceType": "competition"
    },
    {
     "datasetId": 6261948,
     "sourceId": 10144848,
     "sourceType": "datasetVersion"
    }
   ],
   "dockerImageVersionId": 30804,
   "isGpuEnabled": false,
   "isInternetEnabled": false,
   "language": "python",
   "sourceType": "notebook"
  },
  "kernelspec": {
   "display_name": "Python 3",
   "language": "python",
   "name": "python3"
  },
  "language_info": {
   "codemirror_mode": {
    "name": "ipython",
    "version": 3
   },
   "file_extension": ".py",
   "mimetype": "text/x-python",
   "name": "python",
   "nbconvert_exporter": "python",
   "pygments_lexer": "ipython3",
   "version": "3.10.14"
  },
  "papermill": {
   "default_parameters": {},
   "duration": 4.278082,
   "end_time": "2024-12-09T06:25:30.481449",
   "environment_variables": {},
   "exception": null,
   "input_path": "__notebook__.ipynb",
   "output_path": "__notebook__.ipynb",
   "parameters": {},
   "start_time": "2024-12-09T06:25:26.203367",
   "version": "2.6.0"
  }
 },
 "nbformat": 4,
 "nbformat_minor": 5
}
