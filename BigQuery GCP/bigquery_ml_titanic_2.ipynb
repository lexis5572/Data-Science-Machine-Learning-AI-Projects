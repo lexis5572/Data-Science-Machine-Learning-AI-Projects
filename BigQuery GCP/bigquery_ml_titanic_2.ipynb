{
  "metadata": {
    "kernelspec": {
      "language": "python",
      "display_name": "Python 3",
      "name": "python3"
    },
    "language_info": {
      "name": "python",
      "version": "3.10.14",
      "mimetype": "text/x-python",
      "codemirror_mode": {
        "name": "ipython",
        "version": 3
      },
      "pygments_lexer": "ipython3",
      "nbconvert_exporter": "python",
      "file_extension": ".py"
    },
    "kaggle": {
      "accelerator": "none",
      "dataSources": [
        {
          "sourceId": 3136,
          "databundleVersionId": 26502,
          "sourceType": "competition"
        }
      ],
      "dockerImageVersionId": 30804,
      "isInternetEnabled": true,
      "language": "python",
      "sourceType": "notebook",
      "isGpuEnabled": false
    },
    "colab": {
      "provenance": []
    }
  },
  "nbformat_minor": 0,
  "nbformat": 4,
  "cells": [
    {
      "cell_type": "code",
      "source": [
        "from google.cloud import bigquery\n",
        "bigquery_client = bigquery.Client(project='#')"
      ],
      "metadata": {
        "trusted": true,
        "execution": {
          "iopub.status.busy": "2024-12-09T04:17:42.895089Z",
          "iopub.execute_input": "2024-12-09T04:17:42.896150Z",
          "iopub.status.idle": "2024-12-09T04:17:47.130768Z",
          "shell.execute_reply.started": "2024-12-09T04:17:42.896088Z",
          "shell.execute_reply": "2024-12-09T04:17:47.129668Z"
        },
        "id": "5fo-hRAbpgSi"
      },
      "outputs": [],
      "execution_count": null
    },
    {
      "cell_type": "code",
      "source": [
        "from google.cloud import bigquery\n",
        "\n",
        "client = bigquery.Client(project='#')\n",
        "\n",
        "query = \"\"\"\n",
        "CREATE MODEL `#.genai_marketing.ml4`\n",
        "OPTIONS(\n",
        "  model_type='BOOSTED_TREE_CLASSIFIER',\n",
        "  data_split_method='AUTO_SPLIT',\n",
        "  input_label_cols=['Survived']\n",
        ") AS\n",
        "SELECT\n",
        "  PassengerId,\n",
        "  Name,\n",
        "  Pclass,\n",
        "  Sex,\n",
        "  SibSp,\n",
        "  Parch,\n",
        "  Fare,\n",
        "  Embarked,\n",
        "  Survived\n",
        "FROM `#.genai_marketing.new-merged`;\n",
        "\"\"\"\n",
        "\n",
        "# Run the query\n",
        "query_job = client.query(query)\n",
        "query_job.result()  # Wait for the job to complete\n",
        "print(\"Model created successfully.\")"
      ],
      "metadata": {
        "trusted": true,
        "execution": {
          "iopub.status.busy": "2024-12-09T04:18:57.656197Z",
          "iopub.execute_input": "2024-12-09T04:18:57.656658Z",
          "iopub.status.idle": "2024-12-09T04:25:51.767382Z",
          "shell.execute_reply.started": "2024-12-09T04:18:57.656620Z",
          "shell.execute_reply": "2024-12-09T04:25:51.766188Z"
        },
        "id": "HyR4KRfRpgSo",
        "outputId": "ac3809d8-1fbe-4991-b0d9-272a23cfd931"
      },
      "outputs": [
        {
          "name": "stdout",
          "text": "Model created successfully.\n",
          "output_type": "stream"
        }
      ],
      "execution_count": null
    },
    {
      "cell_type": "code",
      "source": [
        "from google.cloud import bigquery\n",
        "\n",
        "client = bigquery.Client(project='#')\n",
        "\n",
        "query = \"\"\"\n",
        " SELECT\n",
        "     *\n",
        "   FROM\n",
        "     ML.PREDICT(MODEL `#.new1.model2`,\n",
        "                (SELECT * FROM `#.new2.test3`))\n",
        "\"\"\"\n",
        "\n",
        "# Run the query\n",
        "query_job = client.query(query)\n",
        "query_job.result()  # Wait for the job to complete\n",
        "print(\"Model created successfully.\")"
      ],
      "metadata": {
        "trusted": true,
        "id": "K_bA_LTJpgSu"
      },
      "outputs": [],
      "execution_count": null
    },
    {
      "cell_type": "code",
      "source": [
        "# Convert the results to a DataFrame\n",
        "\n",
        "df = query_job.to_dataframe()\n",
        "\n",
        "# Save DataFrame to CSV\n",
        "\n",
        "df.to_csv('results1.csv', index=False)\n",
        "\n",
        "print(\"Results saved to results.csv successfully.\")"
      ],
      "metadata": {
        "trusted": true,
        "execution": {
          "iopub.status.busy": "2024-12-09T04:25:51.769451Z",
          "iopub.execute_input": "2024-12-09T04:25:51.769885Z",
          "iopub.status.idle": "2024-12-09T04:25:51.782796Z",
          "shell.execute_reply.started": "2024-12-09T04:25:51.769831Z",
          "shell.execute_reply": "2024-12-09T04:25:51.781654Z"
        },
        "id": "hHkUA619pgSw",
        "outputId": "7c96ddff-a223-4334-a54f-166f6d795cca"
      },
      "outputs": [
        {
          "name": "stdout",
          "text": "Results saved to results.csv successfully.\n",
          "output_type": "stream"
        }
      ],
      "execution_count": null
    }
  ]
}