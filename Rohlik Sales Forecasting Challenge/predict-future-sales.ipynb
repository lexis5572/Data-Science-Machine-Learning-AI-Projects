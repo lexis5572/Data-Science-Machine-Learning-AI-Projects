{
 "cells": [
  {
   "cell_type": "markdown",
   "id": "93c025fe",
   "metadata": {
    "papermill": {
     "duration": 0.007976,
     "end_time": "2024-12-24T14:19:26.621840",
     "exception": false,
     "start_time": "2024-12-24T14:19:26.613864",
     "status": "completed"
    },
    "tags": []
   },
   "source": [
    "- Load Files"
   ]
  },
  {
   "cell_type": "code",
   "execution_count": 1,
   "id": "7076fd83",
   "metadata": {
    "execution": {
     "iopub.execute_input": "2024-12-24T14:19:26.637508Z",
     "iopub.status.busy": "2024-12-24T14:19:26.637174Z",
     "iopub.status.idle": "2024-12-24T14:19:27.450923Z",
     "shell.execute_reply": "2024-12-24T14:19:27.450217Z"
    },
    "papermill": {
     "duration": 0.82313,
     "end_time": "2024-12-24T14:19:27.452359",
     "exception": false,
     "start_time": "2024-12-24T14:19:26.629229",
     "status": "completed"
    },
    "tags": []
   },
   "outputs": [],
   "source": [
    "import pandas as pd\n",
    "\n",
    "train = pd.read_csv('/kaggle/input/rohlik-sales-forecasting-challenge-v2/sales_train.csv', nrows=47022)\n",
    "test = pd.read_csv('/kaggle/input/rohlik-sales-forecasting-challenge-v2/sales_test.csv')\n",
    "sample_submission = pd.read_csv('/kaggle/input/rohlik-sales-forecasting-challenge-v2/solution.csv')"
   ]
  },
  {
   "cell_type": "markdown",
   "id": "e851bbaf",
   "metadata": {
    "papermill": {
     "duration": 0.006954,
     "end_time": "2024-12-24T14:19:27.467010",
     "exception": false,
     "start_time": "2024-12-24T14:19:27.460056",
     "status": "completed"
    },
    "tags": []
   },
   "source": [
    "- Fill NaN missing values with 0 "
   ]
  },
  {
   "cell_type": "code",
   "execution_count": 2,
   "id": "59291c24",
   "metadata": {
    "execution": {
     "iopub.execute_input": "2024-12-24T14:19:27.481985Z",
     "iopub.status.busy": "2024-12-24T14:19:27.481731Z",
     "iopub.status.idle": "2024-12-24T14:19:27.493738Z",
     "shell.execute_reply": "2024-12-24T14:19:27.492861Z"
    },
    "papermill": {
     "duration": 0.020902,
     "end_time": "2024-12-24T14:19:27.495018",
     "exception": false,
     "start_time": "2024-12-24T14:19:27.474116",
     "status": "completed"
    },
    "tags": []
   },
   "outputs": [],
   "source": [
    "train.fillna(0, inplace=True)\n",
    "test.fillna(0, inplace=True)"
   ]
  },
  {
   "cell_type": "markdown",
   "id": "97bce2d9",
   "metadata": {
    "papermill": {
     "duration": 0.007107,
     "end_time": "2024-12-24T14:19:27.509143",
     "exception": false,
     "start_time": "2024-12-24T14:19:27.502036",
     "status": "completed"
    },
    "tags": []
   },
   "source": [
    "- Capping outliers"
   ]
  },
  {
   "cell_type": "code",
   "execution_count": 3,
   "id": "979bf945",
   "metadata": {
    "execution": {
     "iopub.execute_input": "2024-12-24T14:19:27.523938Z",
     "iopub.status.busy": "2024-12-24T14:19:27.523728Z",
     "iopub.status.idle": "2024-12-24T14:19:27.597249Z",
     "shell.execute_reply": "2024-12-24T14:19:27.596439Z"
    },
    "papermill": {
     "duration": 0.08245,
     "end_time": "2024-12-24T14:19:27.598591",
     "exception": false,
     "start_time": "2024-12-24T14:19:27.516141",
     "status": "completed"
    },
    "tags": []
   },
   "outputs": [
    {
     "data": {
      "text/html": [
       "<div>\n",
       "<style scoped>\n",
       "    .dataframe tbody tr th:only-of-type {\n",
       "        vertical-align: middle;\n",
       "    }\n",
       "\n",
       "    .dataframe tbody tr th {\n",
       "        vertical-align: top;\n",
       "    }\n",
       "\n",
       "    .dataframe thead th {\n",
       "        text-align: right;\n",
       "    }\n",
       "</style>\n",
       "<table border=\"1\" class=\"dataframe\">\n",
       "  <thead>\n",
       "    <tr style=\"text-align: right;\">\n",
       "      <th></th>\n",
       "      <th>unique_id</th>\n",
       "      <th>date</th>\n",
       "      <th>warehouse</th>\n",
       "      <th>total_orders</th>\n",
       "      <th>sales</th>\n",
       "      <th>sell_price_main</th>\n",
       "      <th>availability</th>\n",
       "      <th>type_0_discount</th>\n",
       "      <th>type_1_discount</th>\n",
       "      <th>type_2_discount</th>\n",
       "      <th>type_3_discount</th>\n",
       "      <th>type_4_discount</th>\n",
       "      <th>type_5_discount</th>\n",
       "      <th>type_6_discount</th>\n",
       "    </tr>\n",
       "  </thead>\n",
       "  <tbody>\n",
       "    <tr>\n",
       "      <th>0</th>\n",
       "      <td>4845</td>\n",
       "      <td>2024-03-10</td>\n",
       "      <td>Budapest_1</td>\n",
       "      <td>6436.0</td>\n",
       "      <td>16.34</td>\n",
       "      <td>194.29</td>\n",
       "      <td>1.0</td>\n",
       "      <td>0.0</td>\n",
       "      <td>0.0</td>\n",
       "      <td>0.0</td>\n",
       "      <td>0.0</td>\n",
       "      <td>0.0</td>\n",
       "      <td>0.0</td>\n",
       "      <td>0.0</td>\n",
       "    </tr>\n",
       "    <tr>\n",
       "      <th>1</th>\n",
       "      <td>4845</td>\n",
       "      <td>2021-05-25</td>\n",
       "      <td>Budapest_1</td>\n",
       "      <td>4663.0</td>\n",
       "      <td>12.63</td>\n",
       "      <td>194.29</td>\n",
       "      <td>1.0</td>\n",
       "      <td>0.0</td>\n",
       "      <td>0.0</td>\n",
       "      <td>0.0</td>\n",
       "      <td>0.0</td>\n",
       "      <td>0.0</td>\n",
       "      <td>0.0</td>\n",
       "      <td>0.0</td>\n",
       "    </tr>\n",
       "    <tr>\n",
       "      <th>2</th>\n",
       "      <td>4845</td>\n",
       "      <td>2021-12-20</td>\n",
       "      <td>Budapest_1</td>\n",
       "      <td>6507.0</td>\n",
       "      <td>34.55</td>\n",
       "      <td>194.29</td>\n",
       "      <td>1.0</td>\n",
       "      <td>0.0</td>\n",
       "      <td>0.0</td>\n",
       "      <td>0.0</td>\n",
       "      <td>0.0</td>\n",
       "      <td>0.0</td>\n",
       "      <td>0.0</td>\n",
       "      <td>0.0</td>\n",
       "    </tr>\n",
       "    <tr>\n",
       "      <th>3</th>\n",
       "      <td>4845</td>\n",
       "      <td>2023-04-29</td>\n",
       "      <td>Budapest_1</td>\n",
       "      <td>5463.0</td>\n",
       "      <td>34.52</td>\n",
       "      <td>194.29</td>\n",
       "      <td>1.0</td>\n",
       "      <td>0.0</td>\n",
       "      <td>0.0</td>\n",
       "      <td>0.0</td>\n",
       "      <td>0.0</td>\n",
       "      <td>0.0</td>\n",
       "      <td>0.0</td>\n",
       "      <td>0.0</td>\n",
       "    </tr>\n",
       "    <tr>\n",
       "      <th>4</th>\n",
       "      <td>4845</td>\n",
       "      <td>2022-04-01</td>\n",
       "      <td>Budapest_1</td>\n",
       "      <td>5997.0</td>\n",
       "      <td>35.92</td>\n",
       "      <td>194.29</td>\n",
       "      <td>1.0</td>\n",
       "      <td>0.0</td>\n",
       "      <td>0.0</td>\n",
       "      <td>0.0</td>\n",
       "      <td>0.0</td>\n",
       "      <td>0.0</td>\n",
       "      <td>0.0</td>\n",
       "      <td>0.0</td>\n",
       "    </tr>\n",
       "    <tr>\n",
       "      <th>...</th>\n",
       "      <td>...</td>\n",
       "      <td>...</td>\n",
       "      <td>...</td>\n",
       "      <td>...</td>\n",
       "      <td>...</td>\n",
       "      <td>...</td>\n",
       "      <td>...</td>\n",
       "      <td>...</td>\n",
       "      <td>...</td>\n",
       "      <td>...</td>\n",
       "      <td>...</td>\n",
       "      <td>...</td>\n",
       "      <td>...</td>\n",
       "      <td>...</td>\n",
       "    </tr>\n",
       "    <tr>\n",
       "      <th>47017</th>\n",
       "      <td>3656</td>\n",
       "      <td>2021-05-26</td>\n",
       "      <td>Prague_3</td>\n",
       "      <td>4529.0</td>\n",
       "      <td>72.37</td>\n",
       "      <td>10.16</td>\n",
       "      <td>1.0</td>\n",
       "      <td>0.0</td>\n",
       "      <td>0.0</td>\n",
       "      <td>0.0</td>\n",
       "      <td>0.0</td>\n",
       "      <td>0.0</td>\n",
       "      <td>0.0</td>\n",
       "      <td>0.0</td>\n",
       "    </tr>\n",
       "    <tr>\n",
       "      <th>47018</th>\n",
       "      <td>3656</td>\n",
       "      <td>2022-04-03</td>\n",
       "      <td>Prague_3</td>\n",
       "      <td>4751.0</td>\n",
       "      <td>73.26</td>\n",
       "      <td>10.79</td>\n",
       "      <td>1.0</td>\n",
       "      <td>0.0</td>\n",
       "      <td>0.0</td>\n",
       "      <td>0.0</td>\n",
       "      <td>0.0</td>\n",
       "      <td>0.0</td>\n",
       "      <td>0.0</td>\n",
       "      <td>0.0</td>\n",
       "    </tr>\n",
       "    <tr>\n",
       "      <th>47019</th>\n",
       "      <td>3656</td>\n",
       "      <td>2021-06-16</td>\n",
       "      <td>Prague_3</td>\n",
       "      <td>4287.0</td>\n",
       "      <td>53.94</td>\n",
       "      <td>10.16</td>\n",
       "      <td>1.0</td>\n",
       "      <td>0.0</td>\n",
       "      <td>0.0</td>\n",
       "      <td>0.0</td>\n",
       "      <td>0.0</td>\n",
       "      <td>0.0</td>\n",
       "      <td>0.0</td>\n",
       "      <td>0.0</td>\n",
       "    </tr>\n",
       "    <tr>\n",
       "      <th>47020</th>\n",
       "      <td>3656</td>\n",
       "      <td>2022-11-09</td>\n",
       "      <td>Prague_3</td>\n",
       "      <td>4642.0</td>\n",
       "      <td>76.28</td>\n",
       "      <td>12.05</td>\n",
       "      <td>1.0</td>\n",
       "      <td>0.0</td>\n",
       "      <td>0.0</td>\n",
       "      <td>0.0</td>\n",
       "      <td>0.0</td>\n",
       "      <td>0.0</td>\n",
       "      <td>0.0</td>\n",
       "      <td>0.0</td>\n",
       "    </tr>\n",
       "    <tr>\n",
       "      <th>47021</th>\n",
       "      <td>3656</td>\n",
       "      <td>2023-01-15</td>\n",
       "      <td>Prague_3</td>\n",
       "      <td>5110.0</td>\n",
       "      <td>118.76</td>\n",
       "      <td>12.68</td>\n",
       "      <td>1.0</td>\n",
       "      <td>0.0</td>\n",
       "      <td>0.0</td>\n",
       "      <td>0.0</td>\n",
       "      <td>0.0</td>\n",
       "      <td>0.0</td>\n",
       "      <td>0.0</td>\n",
       "      <td>0.0</td>\n",
       "    </tr>\n",
       "  </tbody>\n",
       "</table>\n",
       "<p>47022 rows × 14 columns</p>\n",
       "</div>"
      ],
      "text/plain": [
       "       unique_id        date   warehouse  total_orders   sales  \\\n",
       "0           4845  2024-03-10  Budapest_1        6436.0   16.34   \n",
       "1           4845  2021-05-25  Budapest_1        4663.0   12.63   \n",
       "2           4845  2021-12-20  Budapest_1        6507.0   34.55   \n",
       "3           4845  2023-04-29  Budapest_1        5463.0   34.52   \n",
       "4           4845  2022-04-01  Budapest_1        5997.0   35.92   \n",
       "...          ...         ...         ...           ...     ...   \n",
       "47017       3656  2021-05-26    Prague_3        4529.0   72.37   \n",
       "47018       3656  2022-04-03    Prague_3        4751.0   73.26   \n",
       "47019       3656  2021-06-16    Prague_3        4287.0   53.94   \n",
       "47020       3656  2022-11-09    Prague_3        4642.0   76.28   \n",
       "47021       3656  2023-01-15    Prague_3        5110.0  118.76   \n",
       "\n",
       "       sell_price_main  availability  type_0_discount  type_1_discount  \\\n",
       "0               194.29           1.0              0.0              0.0   \n",
       "1               194.29           1.0              0.0              0.0   \n",
       "2               194.29           1.0              0.0              0.0   \n",
       "3               194.29           1.0              0.0              0.0   \n",
       "4               194.29           1.0              0.0              0.0   \n",
       "...                ...           ...              ...              ...   \n",
       "47017            10.16           1.0              0.0              0.0   \n",
       "47018            10.79           1.0              0.0              0.0   \n",
       "47019            10.16           1.0              0.0              0.0   \n",
       "47020            12.05           1.0              0.0              0.0   \n",
       "47021            12.68           1.0              0.0              0.0   \n",
       "\n",
       "       type_2_discount  type_3_discount  type_4_discount  type_5_discount  \\\n",
       "0                  0.0              0.0              0.0              0.0   \n",
       "1                  0.0              0.0              0.0              0.0   \n",
       "2                  0.0              0.0              0.0              0.0   \n",
       "3                  0.0              0.0              0.0              0.0   \n",
       "4                  0.0              0.0              0.0              0.0   \n",
       "...                ...              ...              ...              ...   \n",
       "47017              0.0              0.0              0.0              0.0   \n",
       "47018              0.0              0.0              0.0              0.0   \n",
       "47019              0.0              0.0              0.0              0.0   \n",
       "47020              0.0              0.0              0.0              0.0   \n",
       "47021              0.0              0.0              0.0              0.0   \n",
       "\n",
       "       type_6_discount  \n",
       "0                  0.0  \n",
       "1                  0.0  \n",
       "2                  0.0  \n",
       "3                  0.0  \n",
       "4                  0.0  \n",
       "...                ...  \n",
       "47017              0.0  \n",
       "47018              0.0  \n",
       "47019              0.0  \n",
       "47020              0.0  \n",
       "47021              0.0  \n",
       "\n",
       "[47022 rows x 14 columns]"
      ]
     },
     "execution_count": 3,
     "metadata": {},
     "output_type": "execute_result"
    }
   ],
   "source": [
    "numerical_columns_train = train.select_dtypes(include=['float64', 'int64']).columns\n",
    "\n",
    "for col in numerical_columns_train:\n",
    "    Q1 = train[col].quantile(0.25)\n",
    "    Q3 = train[col].quantile(0.75)\n",
    "    IQR = Q3 - Q1\n",
    "    lower_bound = Q1 - 1.5 * IQR\n",
    "    upper_bound = Q3 + 1.5 * IQR\n",
    "    train[col] = train[col].clip(lower=lower_bound, upper=upper_bound)\n",
    "\n",
    "train"
   ]
  },
  {
   "cell_type": "markdown",
   "id": "422eaa87",
   "metadata": {
    "papermill": {
     "duration": 0.007649,
     "end_time": "2024-12-24T14:19:27.613788",
     "exception": false,
     "start_time": "2024-12-24T14:19:27.606139",
     "status": "completed"
    },
    "tags": []
   },
   "source": [
    "- Calculating Customer Lifetime Value (CLV)"
   ]
  },
  {
   "cell_type": "code",
   "execution_count": 4,
   "id": "fe8355a8",
   "metadata": {
    "execution": {
     "iopub.execute_input": "2024-12-24T14:19:27.628977Z",
     "iopub.status.busy": "2024-12-24T14:19:27.628760Z",
     "iopub.status.idle": "2024-12-24T14:19:27.656055Z",
     "shell.execute_reply": "2024-12-24T14:19:27.655427Z"
    },
    "papermill": {
     "duration": 0.036257,
     "end_time": "2024-12-24T14:19:27.657276",
     "exception": false,
     "start_time": "2024-12-24T14:19:27.621019",
     "status": "completed"
    },
    "tags": []
   },
   "outputs": [
    {
     "data": {
      "text/plain": [
       "unique_id\n",
       "355      51294.16250\n",
       "625      57761.62125\n",
       "724     240242.93750\n",
       "745      43517.42875\n",
       "827      51945.10000\n",
       "915      43445.24000\n",
       "958      48459.03875\n",
       "965      24906.70000\n",
       "1017     13292.70625\n",
       "1048     11165.03000\n",
       "1095     13168.81000\n",
       "1545      6620.30000\n",
       "1619     34708.29250\n",
       "1755    144021.13375\n",
       "1807     92471.94000\n",
       "1865    231592.65750\n",
       "2005     48845.23000\n",
       "2232     33583.96000\n",
       "2468    204672.92250\n",
       "2571     35012.80875\n",
       "2631      4571.58000\n",
       "2706    151629.25875\n",
       "2910     59528.84250\n",
       "2915     43384.52000\n",
       "3200    273020.83875\n",
       "3285     58759.26500\n",
       "3507    133516.89250\n",
       "3656    104703.25875\n",
       "3767       529.28000\n",
       "3858     23725.33500\n",
       "3863     66763.18000\n",
       "4044    118791.34375\n",
       "4167     14890.68000\n",
       "4168     11163.93000\n",
       "4227    274158.30375\n",
       "4484     25187.74500\n",
       "4511    104221.14500\n",
       "4540     68692.53000\n",
       "4826     36915.90500\n",
       "4829     15937.96000\n",
       "4845     29879.55000\n",
       "5033     86879.74625\n",
       "dtype: float64"
      ]
     },
     "execution_count": 4,
     "metadata": {},
     "output_type": "execute_result"
    }
   ],
   "source": [
    "# Calculate average revenue per customer\n",
    "average_revenue_per_customer = train.groupby('unique_id')['sales'].mean()\n",
    "\n",
    "# Assuming customer lifespan is the number of unique dates for each customer\n",
    "customer_lifespan = train.groupby('unique_id')['date'].nunique()\n",
    "\n",
    "# Calculate CLV\n",
    "clv = average_revenue_per_customer * customer_lifespan\n",
    "\n",
    "clv"
   ]
  },
  {
   "cell_type": "markdown",
   "id": "99165294",
   "metadata": {
    "papermill": {
     "duration": 0.007341,
     "end_time": "2024-12-24T14:19:27.672156",
     "exception": false,
     "start_time": "2024-12-24T14:19:27.664815",
     "status": "completed"
    },
    "tags": []
   },
   "source": [
    "- Calculate Average Revenue per Order"
   ]
  },
  {
   "cell_type": "code",
   "execution_count": 5,
   "id": "cc795bba",
   "metadata": {
    "execution": {
     "iopub.execute_input": "2024-12-24T14:19:27.687597Z",
     "iopub.status.busy": "2024-12-24T14:19:27.687338Z",
     "iopub.status.idle": "2024-12-24T14:19:27.692247Z",
     "shell.execute_reply": "2024-12-24T14:19:27.691621Z"
    },
    "papermill": {
     "duration": 0.014037,
     "end_time": "2024-12-24T14:19:27.693455",
     "exception": false,
     "start_time": "2024-12-24T14:19:27.679418",
     "status": "completed"
    },
    "tags": []
   },
   "outputs": [
    {
     "data": {
      "text/plain": [
       "0.010896574039231964"
      ]
     },
     "execution_count": 5,
     "metadata": {},
     "output_type": "execute_result"
    }
   ],
   "source": [
    "# Total revenue is the sum of 'sales', and total orders is the sum of 'total_orders'\n",
    "\n",
    "total_revenue = train['sales'].sum()\n",
    "total_orders = train['total_orders'].sum()\n",
    "\n",
    "average_revenue_per_order = total_revenue / total_orders\n",
    "average_revenue_per_order"
   ]
  },
  {
   "cell_type": "markdown",
   "id": "f7012612",
   "metadata": {
    "papermill": {
     "duration": 0.007276,
     "end_time": "2024-12-24T14:19:27.708178",
     "exception": false,
     "start_time": "2024-12-24T14:19:27.700902",
     "status": "completed"
    },
    "tags": []
   },
   "source": [
    "- Total income generated from sales"
   ]
  },
  {
   "cell_type": "code",
   "execution_count": 6,
   "id": "abd97163",
   "metadata": {
    "execution": {
     "iopub.execute_input": "2024-12-24T14:19:27.723596Z",
     "iopub.status.busy": "2024-12-24T14:19:27.723351Z",
     "iopub.status.idle": "2024-12-24T14:19:27.727784Z",
     "shell.execute_reply": "2024-12-24T14:19:27.727122Z"
    },
    "papermill": {
     "duration": 0.013346,
     "end_time": "2024-12-24T14:19:27.728877",
     "exception": false,
     "start_time": "2024-12-24T14:19:27.715531",
     "status": "completed"
    },
    "tags": []
   },
   "outputs": [
    {
     "data": {
      "text/plain": [
       "3137579.1100000003"
      ]
     },
     "execution_count": 6,
     "metadata": {},
     "output_type": "execute_result"
    }
   ],
   "source": [
    "total_income = train['sales'].sum()\n",
    "total_income"
   ]
  },
  {
   "cell_type": "markdown",
   "id": "498c8124",
   "metadata": {
    "papermill": {
     "duration": 0.007227,
     "end_time": "2024-12-24T14:19:27.743538",
     "exception": false,
     "start_time": "2024-12-24T14:19:27.736311",
     "status": "completed"
    },
    "tags": []
   },
   "source": [
    "- Convert 'date' column to datetime format "
   ]
  },
  {
   "cell_type": "code",
   "execution_count": 7,
   "id": "05d38ac5",
   "metadata": {
    "execution": {
     "iopub.execute_input": "2024-12-24T14:19:27.758998Z",
     "iopub.status.busy": "2024-12-24T14:19:27.758800Z",
     "iopub.status.idle": "2024-12-24T14:19:27.777812Z",
     "shell.execute_reply": "2024-12-24T14:19:27.777208Z"
    },
    "papermill": {
     "duration": 0.028039,
     "end_time": "2024-12-24T14:19:27.778990",
     "exception": false,
     "start_time": "2024-12-24T14:19:27.750951",
     "status": "completed"
    },
    "tags": []
   },
   "outputs": [],
   "source": [
    "train['date'] = pd.to_datetime(train['date'])\n",
    "test['date'] = pd.to_datetime(test['date'])"
   ]
  },
  {
   "cell_type": "markdown",
   "id": "7c043db3",
   "metadata": {
    "papermill": {
     "duration": 0.007537,
     "end_time": "2024-12-24T14:19:27.795708",
     "exception": false,
     "start_time": "2024-12-24T14:19:27.788171",
     "status": "completed"
    },
    "tags": []
   },
   "source": [
    "- Calculate total sales per day, week, month,quarter"
   ]
  },
  {
   "cell_type": "code",
   "execution_count": 8,
   "id": "a559c3a4",
   "metadata": {
    "execution": {
     "iopub.execute_input": "2024-12-24T14:19:27.811537Z",
     "iopub.status.busy": "2024-12-24T14:19:27.811298Z",
     "iopub.status.idle": "2024-12-24T14:19:27.853045Z",
     "shell.execute_reply": "2024-12-24T14:19:27.852353Z"
    },
    "papermill": {
     "duration": 0.051035,
     "end_time": "2024-12-24T14:19:27.854289",
     "exception": false,
     "start_time": "2024-12-24T14:19:27.803254",
     "status": "completed"
    },
    "tags": []
   },
   "outputs": [
    {
     "data": {
      "text/plain": [
       "(date\n",
       " 2020-08-01    1113.77750\n",
       " 2020-08-02    1266.55750\n",
       " 2020-08-03    1257.02750\n",
       " 2020-08-04    1126.18875\n",
       " 2020-08-05    1096.30750\n",
       "                  ...    \n",
       " 2024-05-29    2480.85250\n",
       " 2024-05-30    2576.28375\n",
       " 2024-05-31    2583.04375\n",
       " 2024-06-01    2421.59375\n",
       " 2024-06-02    2360.83500\n",
       " Name: sales, Length: 1402, dtype: float64,\n",
       " date\n",
       " 2020-07-27/2020-08-02     2380.33500\n",
       " 2020-08-03/2020-08-09     8342.11750\n",
       " 2020-08-10/2020-08-16     9247.99000\n",
       " 2020-08-17/2020-08-23     9160.74375\n",
       " 2020-08-24/2020-08-30     9782.74125\n",
       "                             ...     \n",
       " 2024-04-29/2024-05-05    18416.89250\n",
       " 2024-05-06/2024-05-12    16381.58500\n",
       " 2024-05-13/2024-05-19    17397.87625\n",
       " 2024-05-20/2024-05-26    16487.63625\n",
       " 2024-05-27/2024-06-02    17260.41625\n",
       " Freq: W-SUN, Name: sales, Length: 201, dtype: float64,\n",
       " date\n",
       " 2020-08    40343.76375\n",
       " 2020-09    50200.15750\n",
       " 2020-10    61108.60125\n",
       " 2020-11    61705.32375\n",
       " 2020-12    62422.29875\n",
       " 2021-01    73054.10625\n",
       " 2021-02    69542.26500\n",
       " 2021-03    76566.61000\n",
       " 2021-04    76244.13125\n",
       " 2021-05    74647.62875\n",
       " 2021-06    67307.68875\n",
       " 2021-07    59985.02750\n",
       " 2021-08    55699.49375\n",
       " 2021-09    60056.27250\n",
       " 2021-10    71832.88750\n",
       " 2021-11    78353.07125\n",
       " 2021-12    76492.32125\n",
       " 2022-01    85952.88500\n",
       " 2022-02    77629.30000\n",
       " 2022-03    85385.89250\n",
       " 2022-04    71706.46250\n",
       " 2022-05    73155.09125\n",
       " 2022-06    64206.34875\n",
       " 2022-07    60965.46250\n",
       " 2022-08    50802.75625\n",
       " 2022-09    60970.59000\n",
       " 2022-10    69839.66125\n",
       " 2022-11    72268.16875\n",
       " 2022-12    72303.95625\n",
       " 2023-01    78066.13125\n",
       " 2023-02    70523.98375\n",
       " 2023-03    76340.75875\n",
       " 2023-04    72968.08750\n",
       " 2023-05    70599.70000\n",
       " 2023-06    59687.22500\n",
       " 2023-07    56058.17250\n",
       " 2023-08    49992.71750\n",
       " 2023-09    55105.14500\n",
       " 2023-10    70826.28500\n",
       " 2023-11    68314.09125\n",
       " 2023-12    73198.55875\n",
       " 2024-01    73727.42750\n",
       " 2024-02    67883.52250\n",
       " 2024-03    77232.47375\n",
       " 2024-04    75919.13250\n",
       " 2024-05    75605.04500\n",
       " 2024-06     4782.42875\n",
       " Freq: M, Name: sales, dtype: float64,\n",
       " date\n",
       " 2020Q3     90543.92125\n",
       " 2020Q4    185236.22375\n",
       " 2021Q1    219162.98125\n",
       " 2021Q2    218199.44875\n",
       " 2021Q3    175740.79375\n",
       " 2021Q4    226678.28000\n",
       " 2022Q1    248968.07750\n",
       " 2022Q2    209067.90250\n",
       " 2022Q3    172738.80875\n",
       " 2022Q4    214411.78625\n",
       " 2023Q1    224930.87375\n",
       " 2023Q2    203255.01250\n",
       " 2023Q3    161156.03500\n",
       " 2023Q4    212338.93500\n",
       " 2024Q1    218843.42375\n",
       " 2024Q2    156306.60625\n",
       " Freq: Q-DEC, Name: sales, dtype: float64)"
      ]
     },
     "execution_count": 8,
     "metadata": {},
     "output_type": "execute_result"
    }
   ],
   "source": [
    "# Calculating total sales per day\n",
    "total_sales_per_day = train.groupby(train['date'].dt.date)['sales'].sum()\n",
    "\n",
    "# Calculating total sales per week\n",
    "total_sales_per_week = train.groupby(train['date'].dt.to_period('W'))['sales'].sum()\n",
    "\n",
    "# Calculating total sales per month\n",
    "total_sales_per_month = train.groupby(train['date'].dt.to_period('M'))['sales'].sum()\n",
    "\n",
    "# Calculating total sales per quarter\n",
    "total_sales_per_quarter = train.groupby(train['date'].dt.to_period('Q'))['sales'].sum()\n",
    "\n",
    "total_sales_per_day, total_sales_per_week, total_sales_per_month, total_sales_per_quarter"
   ]
  },
  {
   "cell_type": "markdown",
   "id": "f85d7b2e",
   "metadata": {
    "papermill": {
     "duration": 0.007439,
     "end_time": "2024-12-24T14:19:27.869799",
     "exception": false,
     "start_time": "2024-12-24T14:19:27.862360",
     "status": "completed"
    },
    "tags": []
   },
   "source": [
    "- Visualize total sales per day, week, month,quarter"
   ]
  },
  {
   "cell_type": "code",
   "execution_count": 9,
   "id": "d803d790",
   "metadata": {
    "execution": {
     "iopub.execute_input": "2024-12-24T14:19:27.885964Z",
     "iopub.status.busy": "2024-12-24T14:19:27.885760Z",
     "iopub.status.idle": "2024-12-24T14:19:30.411774Z",
     "shell.execute_reply": "2024-12-24T14:19:30.410936Z"
    },
    "papermill": {
     "duration": 2.535641,
     "end_time": "2024-12-24T14:19:30.413199",
     "exception": false,
     "start_time": "2024-12-24T14:19:27.877558",
     "status": "completed"
    },
    "tags": []
   },
   "outputs": [
    {
     "data": {
      "image/png": "[encoded data removed]",
      "text/plain": [
       "<Figure size 1200x600 with 1 Axes>"
      ]
     },
     "metadata": {},
     "output_type": "display_data"
    },
    {
     "data": {
      "image/png": "[encoded data removed]",
      "text/plain": [
       "<Figure size 1200x600 with 1 Axes>"
      ]
     },
     "metadata": {},
     "output_type": "display_data"
    },
    {
     "data": {
      "image/png": "[encoded data removed]",
      "text/plain": [
       "<Figure size 1200x600 with 1 Axes>"
      ]
     },
     "metadata": {},
     "output_type": "display_data"
    },
    {
     "data": {
      "image/png": "[encoded data removed]",
      "text/plain": [
       "<Figure size 1200x600 with 1 Axes>"
      ]
     },
     "metadata": {},
     "output_type": "display_data"
    }
   ],
   "source": [
    "import matplotlib.pyplot as plt\n",
    "import seaborn as sns\n",
    "\n",
    "# Visualizing total sales per day\n",
    "plt.figure(figsize=(12, 6))\n",
    "total_sales_per_day.plot(kind='line', title='Total Sales Per Day', legend=False)\n",
    "plt.xlabel('Day')\n",
    "plt.ylabel('Sales')\n",
    "plt.grid()\n",
    "plt.show()\n",
    "\n",
    "# Visualizing total sales per week\n",
    "plt.figure(figsize=(12, 6))\n",
    "total_sales_per_week.plot(kind='line', title='Total Sales Per Week', legend=False)\n",
    "plt.xlabel('Week')\n",
    "plt.ylabel('Sales')\n",
    "plt.grid()\n",
    "plt.show()\n",
    "\n",
    "# Visualizing total sales per month\n",
    "plt.figure(figsize=(12, 6))\n",
    "total_sales_per_month.plot(kind='bar', title='Total Sales Per Month', legend=False)\n",
    "plt.xlabel('Month')\n",
    "plt.ylabel('Sales')\n",
    "plt.grid(axis='y')\n",
    "plt.show()\n",
    "\n",
    "# Visualizing total sales per quarter\n",
    "plt.figure(figsize=(12, 6))\n",
    "total_sales_per_quarter.plot(kind='bar', title='Total Sales Per Quarter', legend=False)\n",
    "plt.xlabel('Quarter')\n",
    "plt.ylabel('Sales')\n",
    "plt.grid(axis='y')\n",
    "plt.show()"
   ]
  },
  {
   "cell_type": "markdown",
   "id": "614d0047",
   "metadata": {
    "papermill": {
     "duration": 0.01191,
     "end_time": "2024-12-24T14:19:30.438035",
     "exception": false,
     "start_time": "2024-12-24T14:19:30.426125",
     "status": "completed"
    },
    "tags": []
   },
   "source": [
    "- Calculate churn rate (percentage of customers who stop using the service in a given time period)"
   ]
  },
  {
   "cell_type": "code",
   "execution_count": 10,
   "id": "2d90da52",
   "metadata": {
    "execution": {
     "iopub.execute_input": "2024-12-24T14:19:30.463106Z",
     "iopub.status.busy": "2024-12-24T14:19:30.462682Z",
     "iopub.status.idle": "2024-12-24T14:19:30.474621Z",
     "shell.execute_reply": "2024-12-24T14:19:30.473739Z"
    },
    "papermill": {
     "duration": 0.026084,
     "end_time": "2024-12-24T14:19:30.476008",
     "exception": false,
     "start_time": "2024-12-24T14:19:30.449924",
     "status": "completed"
    },
    "tags": []
   },
   "outputs": [
    {
     "data": {
      "text/plain": [
       "2.380952380952381"
      ]
     },
     "execution_count": 10,
     "metadata": {},
     "output_type": "execute_result"
    }
   ],
   "source": [
    "from datetime import timedelta\n",
    "\n",
    "# Getting the most recent date in the dataset\n",
    "most_recent_date = train['date'].max()\n",
    "\n",
    "# Define a time period (e.g., 1 year) for churn calculation\n",
    "\n",
    "churn_period = timedelta(days=365)\n",
    "\n",
    "# Identify active customers within the churn period\n",
    "active_customers = train[train['date'] > (most_recent_date - churn_period)]['unique_id'].unique()\n",
    "\n",
    "# Total customers\n",
    "total_customers = train['unique_id'].nunique()\n",
    "\n",
    "# Churned customers\n",
    "churned_customers = total_customers - len(active_customers)\n",
    "\n",
    "# Churn rate\n",
    "churn_rate = (churned_customers / total_customers) * 100\n",
    "churn_rate"
   ]
  },
  {
   "cell_type": "markdown",
   "id": "9fcc2c73",
   "metadata": {
    "papermill": {
     "duration": 0.011876,
     "end_time": "2024-12-24T14:19:30.499727",
     "exception": false,
     "start_time": "2024-12-24T14:19:30.487851",
     "status": "completed"
    },
    "tags": []
   },
   "source": [
    "The churn rate is 2.3%, indicating that customers have stopped using the service within the defined time period."
   ]
  },
  {
   "cell_type": "markdown",
   "id": "a690db95",
   "metadata": {
    "papermill": {
     "duration": 0.011782,
     "end_time": "2024-12-24T14:19:30.523548",
     "exception": false,
     "start_time": "2024-12-24T14:19:30.511766",
     "status": "completed"
    },
    "tags": []
   },
   "source": [
    "- Calculate the average number of transactions made by a customer "
   ]
  },
  {
   "cell_type": "code",
   "execution_count": 11,
   "id": "67169274",
   "metadata": {
    "execution": {
     "iopub.execute_input": "2024-12-24T14:19:30.548117Z",
     "iopub.status.busy": "2024-12-24T14:19:30.547840Z",
     "iopub.status.idle": "2024-12-24T14:19:30.552944Z",
     "shell.execute_reply": "2024-12-24T14:19:30.552235Z"
    },
    "papermill": {
     "duration": 0.018835,
     "end_time": "2024-12-24T14:19:30.554141",
     "exception": false,
     "start_time": "2024-12-24T14:19:30.535306",
     "status": "completed"
    },
    "tags": []
   },
   "outputs": [
    {
     "data": {
      "text/plain": [
       "1119.5714285714287"
      ]
     },
     "execution_count": 11,
     "metadata": {},
     "output_type": "execute_result"
    }
   ],
   "source": [
    "# Total transactions\n",
    "total_transactions = train.shape[0]\n",
    "\n",
    "# Total customers\n",
    "total_customers = train['unique_id'].nunique()\n",
    "\n",
    "# Average number of transactions per customer\n",
    "average_transactions_per_customer = total_transactions / total_customers\n",
    "average_transactions_per_customer"
   ]
  },
  {
   "cell_type": "markdown",
   "id": "0c660786",
   "metadata": {
    "papermill": {
     "duration": 0.011528,
     "end_time": "2024-12-24T14:19:30.577469",
     "exception": false,
     "start_time": "2024-12-24T14:19:30.565941",
     "status": "completed"
    },
    "tags": []
   },
   "source": [
    "The average number of transactions made by a customer over the specified period is 1119.57"
   ]
  },
  {
   "cell_type": "markdown",
   "id": "6cf60a4b",
   "metadata": {
    "papermill": {
     "duration": 0.01173,
     "end_time": "2024-12-24T14:19:30.600814",
     "exception": false,
     "start_time": "2024-12-24T14:19:30.589084",
     "status": "completed"
    },
    "tags": []
   },
   "source": [
    "- Calculate the percentage of visitors who make a purchase"
   ]
  },
  {
   "cell_type": "code",
   "execution_count": 12,
   "id": "759f11dc",
   "metadata": {
    "execution": {
     "iopub.execute_input": "2024-12-24T14:19:30.625034Z",
     "iopub.status.busy": "2024-12-24T14:19:30.624816Z",
     "iopub.status.idle": "2024-12-24T14:19:30.638708Z",
     "shell.execute_reply": "2024-12-24T14:19:30.637901Z"
    },
    "papermill": {
     "duration": 0.02746,
     "end_time": "2024-12-24T14:19:30.640028",
     "exception": false,
     "start_time": "2024-12-24T14:19:30.612568",
     "status": "completed"
    },
    "tags": []
   },
   "outputs": [
    {
     "data": {
      "text/plain": [
       "100.0"
      ]
     },
     "execution_count": 12,
     "metadata": {},
     "output_type": "execute_result"
    }
   ],
   "source": [
    "# Total visitors is the count of rows in the dataset\n",
    "total_visitors = train.shape[0]\n",
    "\n",
    "# Visitors who made a purchase\n",
    "purchase_visitors = train[train['total_orders'] > 0].shape[0]\n",
    "\n",
    "# Purchase percentage\n",
    "purchase_percentage = (purchase_visitors / total_visitors) * 100\n",
    "purchase_percentage"
   ]
  },
  {
   "cell_type": "markdown",
   "id": "421eb90f",
   "metadata": {
    "papermill": {
     "duration": 0.011795,
     "end_time": "2024-12-24T14:19:30.663893",
     "exception": false,
     "start_time": "2024-12-24T14:19:30.652098",
     "status": "completed"
    },
    "tags": []
   },
   "source": [
    "The percentage of visitors who make a purchase is 100%."
   ]
  },
  {
   "cell_type": "markdown",
   "id": "90c512ef",
   "metadata": {
    "papermill": {
     "duration": 0.01165,
     "end_time": "2024-12-24T14:19:30.687485",
     "exception": false,
     "start_time": "2024-12-24T14:19:30.675835",
     "status": "completed"
    },
    "tags": []
   },
   "source": [
    "- Calculate the percentage of customers who continue to make purchases over time"
   ]
  },
  {
   "cell_type": "code",
   "execution_count": 13,
   "id": "c82e7e6f",
   "metadata": {
    "execution": {
     "iopub.execute_input": "2024-12-24T14:19:30.711996Z",
     "iopub.status.busy": "2024-12-24T14:19:30.711752Z",
     "iopub.status.idle": "2024-12-24T14:19:30.723486Z",
     "shell.execute_reply": "2024-12-24T14:19:30.722587Z"
    },
    "papermill": {
     "duration": 0.025563,
     "end_time": "2024-12-24T14:19:30.724846",
     "exception": false,
     "start_time": "2024-12-24T14:19:30.699283",
     "status": "completed"
    },
    "tags": []
   },
   "outputs": [
    {
     "data": {
      "text/plain": [
       "69.04761904761905"
      ]
     },
     "execution_count": 13,
     "metadata": {},
     "output_type": "execute_result"
    }
   ],
   "source": [
    "# Identify customers who made purchases in each time period (e.g., year)\n",
    "train['year'] = train['date'].dt.year\n",
    "customers_per_year = train.groupby('year')['unique_id'].unique()\n",
    "\n",
    "# Identify customers who made purchases in consecutive years\n",
    "continuing_customers = set(customers_per_year.iloc[0])\n",
    "for year_customers in customers_per_year[1:]:\n",
    "    continuing_customers &= set(year_customers)\n",
    "\n",
    "# Percentage of continue customers\n",
    "total_percentage_customers = (len(continuing_customers) / total_customers) * 100\n",
    "total_percentage_customers"
   ]
  },
  {
   "cell_type": "markdown",
   "id": "309b9b83",
   "metadata": {
    "papermill": {
     "duration": 0.01187,
     "end_time": "2024-12-24T14:19:30.748782",
     "exception": false,
     "start_time": "2024-12-24T14:19:30.736912",
     "status": "completed"
    },
    "tags": []
   },
   "source": [
    "The percentage of customers who continue to make purchases over time is 69%."
   ]
  },
  {
   "cell_type": "markdown",
   "id": "58f9758d",
   "metadata": {
    "papermill": {
     "duration": 0.011903,
     "end_time": "2024-12-24T14:19:30.772791",
     "exception": false,
     "start_time": "2024-12-24T14:19:30.760888",
     "status": "completed"
    },
    "tags": []
   },
   "source": [
    "- Calculate correlations to find relationships between columns and sales"
   ]
  },
  {
   "cell_type": "code",
   "execution_count": 14,
   "id": "8fa4b396",
   "metadata": {
    "execution": {
     "iopub.execute_input": "2024-12-24T14:19:30.798479Z",
     "iopub.status.busy": "2024-12-24T14:19:30.798217Z",
     "iopub.status.idle": "2024-12-24T14:19:30.836755Z",
     "shell.execute_reply": "2024-12-24T14:19:30.835986Z"
    },
    "papermill": {
     "duration": 0.05321,
     "end_time": "2024-12-24T14:19:30.838022",
     "exception": false,
     "start_time": "2024-12-24T14:19:30.784812",
     "status": "completed"
    },
    "tags": []
   },
   "outputs": [
    {
     "data": {
      "text/plain": [
       "sales              1.000000\n",
       "total_orders       0.329362\n",
       "unique_id          0.024724\n",
       "sell_price_main   -0.180175\n",
       "availability            NaN\n",
       "type_0_discount         NaN\n",
       "type_1_discount         NaN\n",
       "type_2_discount         NaN\n",
       "type_3_discount         NaN\n",
       "type_4_discount         NaN\n",
       "type_5_discount         NaN\n",
       "type_6_discount         NaN\n",
       "Name: sales, dtype: float64"
      ]
     },
     "execution_count": 14,
     "metadata": {},
     "output_type": "execute_result"
    }
   ],
   "source": [
    "# Select numerical columns for correlation analysis\n",
    "numerical_columns = train.select_dtypes(include=['float64', 'int64']).columns\n",
    "\n",
    "# Calculate correlation matrix\n",
    "correlation_matrix = train[numerical_columns].corr()\n",
    "\n",
    "# Extract correlations with 'sales'\n",
    "sales_correlations = correlation_matrix['sales'].sort_values(ascending=False)\n",
    "sales_correlations"
   ]
  },
  {
   "cell_type": "code",
   "execution_count": 15,
   "id": "3552c737",
   "metadata": {
    "execution": {
     "iopub.execute_input": "2024-12-24T14:19:30.864063Z",
     "iopub.status.busy": "2024-12-24T14:19:30.863817Z",
     "iopub.status.idle": "2024-12-24T14:19:30.881319Z",
     "shell.execute_reply": "2024-12-24T14:19:30.880526Z"
    },
    "papermill": {
     "duration": 0.031559,
     "end_time": "2024-12-24T14:19:30.882700",
     "exception": false,
     "start_time": "2024-12-24T14:19:30.851141",
     "status": "completed"
    },
    "tags": []
   },
   "outputs": [],
   "source": [
    "train['sales_per_day'] = train['date'].map(total_sales_per_day)\n",
    "train['sales_per_week'] = train['date'].dt.to_period('W').map(total_sales_per_week)\n",
    "train['sales_per_month'] = train['date'].dt.to_period('M').map(total_sales_per_month)\n",
    "train['sales_per_quarter'] = train['date'].dt.to_period('Q').map(total_sales_per_quarter)"
   ]
  },
  {
   "cell_type": "code",
   "execution_count": 16,
   "id": "e2d3e7ac",
   "metadata": {
    "execution": {
     "iopub.execute_input": "2024-12-24T14:19:30.907614Z",
     "iopub.status.busy": "2024-12-24T14:19:30.907345Z",
     "iopub.status.idle": "2024-12-24T14:19:30.921626Z",
     "shell.execute_reply": "2024-12-24T14:19:30.921011Z"
    },
    "papermill": {
     "duration": 0.028149,
     "end_time": "2024-12-24T14:19:30.922848",
     "exception": false,
     "start_time": "2024-12-24T14:19:30.894699",
     "status": "completed"
    },
    "tags": []
   },
   "outputs": [],
   "source": [
    "test['sales_per_day'] = test['date'].map(total_sales_per_day)\n",
    "test['sales_per_week'] = test['date'].dt.to_period('W').map(total_sales_per_week)\n",
    "test['sales_per_month'] = test['date'].dt.to_period('M').map(total_sales_per_month)\n",
    "test['sales_per_quarter'] = test['date'].dt.to_period('Q').map(total_sales_per_quarter)"
   ]
  },
  {
   "cell_type": "markdown",
   "id": "90fdfc47",
   "metadata": {
    "papermill": {
     "duration": 0.01214,
     "end_time": "2024-12-24T14:19:30.947408",
     "exception": false,
     "start_time": "2024-12-24T14:19:30.935268",
     "status": "completed"
    },
    "tags": []
   },
   "source": [
    "- One Hot Encoding"
   ]
  },
  {
   "cell_type": "code",
   "execution_count": 17,
   "id": "641792a4",
   "metadata": {
    "execution": {
     "iopub.execute_input": "2024-12-24T14:19:30.973227Z",
     "iopub.status.busy": "2024-12-24T14:19:30.972933Z",
     "iopub.status.idle": "2024-12-24T14:19:31.013890Z",
     "shell.execute_reply": "2024-12-24T14:19:31.013129Z"
    },
    "papermill": {
     "duration": 0.055848,
     "end_time": "2024-12-24T14:19:31.015498",
     "exception": false,
     "start_time": "2024-12-24T14:19:30.959650",
     "status": "completed"
    },
    "tags": []
   },
   "outputs": [],
   "source": [
    "train_encoded = pd.get_dummies(train, columns=['warehouse'], drop_first=True)\n",
    "test_encoded = pd.get_dummies(test, columns=['warehouse'], drop_first=True)"
   ]
  },
  {
   "cell_type": "markdown",
   "id": "c1215b5c",
   "metadata": {
    "papermill": {
     "duration": 0.012151,
     "end_time": "2024-12-24T14:19:31.040783",
     "exception": false,
     "start_time": "2024-12-24T14:19:31.028632",
     "status": "completed"
    },
    "tags": []
   },
   "source": [
    "- Convert 'date' column into day, week, month, and quarter"
   ]
  },
  {
   "cell_type": "code",
   "execution_count": 18,
   "id": "62e8b100",
   "metadata": {
    "execution": {
     "iopub.execute_input": "2024-12-24T14:19:31.066417Z",
     "iopub.status.busy": "2024-12-24T14:19:31.066140Z",
     "iopub.status.idle": "2024-12-24T14:19:31.089198Z",
     "shell.execute_reply": "2024-12-24T14:19:31.088531Z"
    },
    "papermill": {
     "duration": 0.037514,
     "end_time": "2024-12-24T14:19:31.090496",
     "exception": false,
     "start_time": "2024-12-24T14:19:31.052982",
     "status": "completed"
    },
    "tags": []
   },
   "outputs": [],
   "source": [
    "train['day'] = train['date'].dt.day\n",
    "train['week'] = train['date'].dt.isocalendar().week\n",
    "train['month'] = train['date'].dt.month\n",
    "train['quarter'] = train['date'].dt.quarter\n",
    "\n",
    "test['day'] = test['date'].dt.day\n",
    "test['week'] = test['date'].dt.isocalendar().week\n",
    "test['month'] = test['date'].dt.month\n",
    "test['quarter'] = test['date'].dt.quarter"
   ]
  },
  {
   "cell_type": "markdown",
   "id": "b39b2d6b",
   "metadata": {
    "papermill": {
     "duration": 0.011962,
     "end_time": "2024-12-24T14:19:31.114742",
     "exception": false,
     "start_time": "2024-12-24T14:19:31.102780",
     "status": "completed"
    },
    "tags": []
   },
   "source": [
    "- Setup features and target"
   ]
  },
  {
   "cell_type": "code",
   "execution_count": 19,
   "id": "55b2fca6",
   "metadata": {
    "execution": {
     "iopub.execute_input": "2024-12-24T14:19:31.139980Z",
     "iopub.status.busy": "2024-12-24T14:19:31.139754Z",
     "iopub.status.idle": "2024-12-24T14:19:31.143378Z",
     "shell.execute_reply": "2024-12-24T14:19:31.142455Z"
    },
    "papermill": {
     "duration": 0.017872,
     "end_time": "2024-12-24T14:19:31.144745",
     "exception": false,
     "start_time": "2024-12-24T14:19:31.126873",
     "status": "completed"
    },
    "tags": []
   },
   "outputs": [],
   "source": [
    "features = ['total_orders', 'type_4_discount', 'sell_price_main', 'sales_per_day', 'sales_per_week', 'sales_per_month', 'sales_per_quarter', 'day', 'week', 'month', 'quarter']\n",
    "target = 'sales'"
   ]
  },
  {
   "cell_type": "code",
   "execution_count": 20,
   "id": "3bfae5ba",
   "metadata": {
    "execution": {
     "iopub.execute_input": "2024-12-24T14:19:31.170852Z",
     "iopub.status.busy": "2024-12-24T14:19:31.170612Z",
     "iopub.status.idle": "2024-12-24T14:19:31.176071Z",
     "shell.execute_reply": "2024-12-24T14:19:31.175239Z"
    },
    "papermill": {
     "duration": 0.020701,
     "end_time": "2024-12-24T14:19:31.177461",
     "exception": false,
     "start_time": "2024-12-24T14:19:31.156760",
     "status": "completed"
    },
    "tags": []
   },
   "outputs": [],
   "source": [
    "X = train[features]\n",
    "y = train[target]"
   ]
  },
  {
   "cell_type": "markdown",
   "id": "487f940a",
   "metadata": {
    "papermill": {
     "duration": 0.017976,
     "end_time": "2024-12-24T14:19:31.208247",
     "exception": false,
     "start_time": "2024-12-24T14:19:31.190271",
     "status": "completed"
    },
    "tags": []
   },
   "source": [
    "- Split the data into train and test sets"
   ]
  },
  {
   "cell_type": "code",
   "execution_count": 21,
   "id": "abf52dcb",
   "metadata": {
    "execution": {
     "iopub.execute_input": "2024-12-24T14:19:31.240845Z",
     "iopub.status.busy": "2024-12-24T14:19:31.240523Z",
     "iopub.status.idle": "2024-12-24T14:19:31.452666Z",
     "shell.execute_reply": "2024-12-24T14:19:31.451728Z"
    },
    "papermill": {
     "duration": 0.232446,
     "end_time": "2024-12-24T14:19:31.454795",
     "exception": false,
     "start_time": "2024-12-24T14:19:31.222349",
     "status": "completed"
    },
    "tags": []
   },
   "outputs": [],
   "source": [
    "from sklearn.model_selection import train_test_split\n",
    "\n",
    "X_train, X_test, y_train, y_test = train_test_split(X, y, test_size=0.25, random_state=42)"
   ]
  },
  {
   "cell_type": "markdown",
   "id": "34dc6fcf",
   "metadata": {
    "papermill": {
     "duration": 0.012188,
     "end_time": "2024-12-24T14:19:31.487597",
     "exception": false,
     "start_time": "2024-12-24T14:19:31.475409",
     "status": "completed"
    },
    "tags": []
   },
   "source": [
    "- Train machine learning model"
   ]
  },
  {
   "cell_type": "code",
   "execution_count": 22,
   "id": "b81f9801",
   "metadata": {
    "execution": {
     "iopub.execute_input": "2024-12-24T14:19:31.513024Z",
     "iopub.status.busy": "2024-12-24T14:19:31.512739Z",
     "iopub.status.idle": "2024-12-24T14:20:39.647649Z",
     "shell.execute_reply": "2024-12-24T14:20:39.646767Z"
    },
    "papermill": {
     "duration": 68.160472,
     "end_time": "2024-12-24T14:20:39.660296",
     "exception": false,
     "start_time": "2024-12-24T14:19:31.499824",
     "status": "completed"
    },
    "tags": []
   },
   "outputs": [
    {
     "name": "stdout",
     "output_type": "stream",
     "text": [
      "CPU times: user 1min 7s, sys: 379 ms, total: 1min 8s\n",
      "Wall time: 1min 8s\n"
     ]
    },
    {
     "data": {
      "text/plain": [
       "27.98645051790012"
      ]
     },
     "execution_count": 22,
     "metadata": {},
     "output_type": "execute_result"
    }
   ],
   "source": [
    "%%time\n",
    "\n",
    "import numpy as np\n",
    "from sklearn.ensemble import RandomForestRegressor\n",
    "from sklearn.model_selection import KFold\n",
    "from sklearn.metrics import mean_absolute_error\n",
    "import joblib\n",
    "\n",
    "# Initialize the Random Forest Regressor\n",
    "model = RandomForestRegressor(random_state=42)\n",
    "\n",
    "# Set up K-Fold\n",
    "kf = KFold(n_splits=5, shuffle=True, random_state=42)\n",
    "\n",
    "# To store predictions and ground truth \n",
    "val_predictions = []\n",
    "val_actuals = []\n",
    "weights = []\n",
    "\n",
    "# K-Fold Cross-Validation\n",
    "for train_index, val_index in kf.split(X_train):\n",
    "    # Splitting the data into training and validation sets\n",
    "    X_train_kf, X_val_kf = X_train.iloc[train_index], X_train.iloc[val_index]\n",
    "    y_train_kf, y_val_kf = y_train.iloc[train_index], y_train.iloc[val_index]\n",
    "\n",
    "    # Training the model\n",
    "    model.fit(X_train_kf, y_train_kf)\n",
    "\n",
    "    # Making predictions on the validation set\n",
    "    y_val_kf_pred = model.predict(X_val_kf)\n",
    "\n",
    "    # Store predictions, actual values, and weights (absolute values of actuals)\n",
    "    val_predictions.append(y_val_kf_pred)\n",
    "    val_actuals.append(y_val_kf)\n",
    "    weights.append(np.abs(y_val_kf))\n",
    "\n",
    "# Convert lists to NumPy arrays \n",
    "val_predictions = np.concatenate(val_predictions)\n",
    "val_actuals = np.concatenate(val_actuals)\n",
    "weights = np.concatenate(weights)\n",
    "\n",
    "# Evaluate the model performance using Weighted Mean Absolute Error (WMAE)\n",
    "wmae = np.sum(weights * np.abs(val_actuals - val_predictions)) / np.sum(weights)\n",
    "\n",
    "# Save the trained model to a .pkl file\n",
    "joblib.dump(model, 'random_forest_model.pkl')\n",
    "\n",
    "wmae"
   ]
  },
  {
   "cell_type": "markdown",
   "id": "2ebbaa2a",
   "metadata": {
    "papermill": {
     "duration": 0.011956,
     "end_time": "2024-12-24T14:20:39.684441",
     "exception": false,
     "start_time": "2024-12-24T14:20:39.672485",
     "status": "completed"
    },
    "tags": []
   },
   "source": [
    "- Predict test data"
   ]
  },
  {
   "cell_type": "code",
   "execution_count": 23,
   "id": "8e11a44c",
   "metadata": {
    "execution": {
     "iopub.execute_input": "2024-12-24T14:20:39.709554Z",
     "iopub.status.busy": "2024-12-24T14:20:39.709223Z",
     "iopub.status.idle": "2024-12-24T14:20:39.714929Z",
     "shell.execute_reply": "2024-12-24T14:20:39.714289Z"
    },
    "papermill": {
     "duration": 0.019586,
     "end_time": "2024-12-24T14:20:39.716043",
     "exception": false,
     "start_time": "2024-12-24T14:20:39.696457",
     "status": "completed"
    },
    "tags": []
   },
   "outputs": [],
   "source": [
    "X_test = test[features]"
   ]
  },
  {
   "cell_type": "markdown",
   "id": "2be3f6ac",
   "metadata": {
    "papermill": {
     "duration": 0.012026,
     "end_time": "2024-12-24T14:20:39.740275",
     "exception": false,
     "start_time": "2024-12-24T14:20:39.728249",
     "status": "completed"
    },
    "tags": []
   },
   "source": [
    "- Predict on the test dataset"
   ]
  },
  {
   "cell_type": "code",
   "execution_count": 24,
   "id": "7845f6af",
   "metadata": {
    "execution": {
     "iopub.execute_input": "2024-12-24T14:20:39.765718Z",
     "iopub.status.busy": "2024-12-24T14:20:39.765474Z",
     "iopub.status.idle": "2024-12-24T14:20:39.771730Z",
     "shell.execute_reply": "2024-12-24T14:20:39.771014Z"
    },
    "papermill": {
     "duration": 0.020487,
     "end_time": "2024-12-24T14:20:39.772955",
     "exception": false,
     "start_time": "2024-12-24T14:20:39.752468",
     "status": "completed"
    },
    "tags": []
   },
   "outputs": [],
   "source": [
    "X_test_filled = X_test.fillna(0)  "
   ]
  },
  {
   "cell_type": "code",
   "execution_count": 25,
   "id": "e6f681e2",
   "metadata": {
    "execution": {
     "iopub.execute_input": "2024-12-24T14:20:39.798234Z",
     "iopub.status.busy": "2024-12-24T14:20:39.798021Z",
     "iopub.status.idle": "2024-12-24T14:20:40.087542Z",
     "shell.execute_reply": "2024-12-24T14:20:40.086736Z"
    },
    "papermill": {
     "duration": 0.30381,
     "end_time": "2024-12-24T14:20:40.089094",
     "exception": false,
     "start_time": "2024-12-24T14:20:39.785284",
     "status": "completed"
    },
    "tags": []
   },
   "outputs": [],
   "source": [
    "y_pred = model.predict(X_test_filled)"
   ]
  },
  {
   "cell_type": "markdown",
   "id": "e9b85e60",
   "metadata": {
    "papermill": {
     "duration": 0.012533,
     "end_time": "2024-12-24T14:20:40.114561",
     "exception": false,
     "start_time": "2024-12-24T14:20:40.102028",
     "status": "completed"
    },
    "tags": []
   },
   "source": [
    "- Create submission file"
   ]
  },
  {
   "cell_type": "code",
   "execution_count": 26,
   "id": "754e9c2c",
   "metadata": {
    "execution": {
     "iopub.execute_input": "2024-12-24T14:20:40.140657Z",
     "iopub.status.busy": "2024-12-24T14:20:40.140323Z",
     "iopub.status.idle": "2024-12-24T14:20:40.144564Z",
     "shell.execute_reply": "2024-12-24T14:20:40.143788Z"
    },
    "papermill": {
     "duration": 0.018777,
     "end_time": "2024-12-24T14:20:40.145699",
     "exception": false,
     "start_time": "2024-12-24T14:20:40.126922",
     "status": "completed"
    },
    "tags": []
   },
   "outputs": [],
   "source": [
    "submission = sample_submission.copy()"
   ]
  },
  {
   "cell_type": "code",
   "execution_count": 27,
   "id": "4bd3c26b",
   "metadata": {
    "execution": {
     "iopub.execute_input": "2024-12-24T14:20:40.171690Z",
     "iopub.status.busy": "2024-12-24T14:20:40.171468Z",
     "iopub.status.idle": "2024-12-24T14:20:40.174670Z",
     "shell.execute_reply": "2024-12-24T14:20:40.174024Z"
    },
    "papermill": {
     "duration": 0.018002,
     "end_time": "2024-12-24T14:20:40.175851",
     "exception": false,
     "start_time": "2024-12-24T14:20:40.157849",
     "status": "completed"
    },
    "tags": []
   },
   "outputs": [],
   "source": [
    "submission['sales_hat'] = y_pred"
   ]
  },
  {
   "cell_type": "code",
   "execution_count": 28,
   "id": "e2541b2e",
   "metadata": {
    "execution": {
     "iopub.execute_input": "2024-12-24T14:20:40.200817Z",
     "iopub.status.busy": "2024-12-24T14:20:40.200602Z",
     "iopub.status.idle": "2024-12-24T14:20:40.207540Z",
     "shell.execute_reply": "2024-12-24T14:20:40.206759Z"
    },
    "papermill": {
     "duration": 0.020692,
     "end_time": "2024-12-24T14:20:40.208768",
     "exception": false,
     "start_time": "2024-12-24T14:20:40.188076",
     "status": "completed"
    },
    "tags": []
   },
   "outputs": [
    {
     "data": {
      "text/html": [
       "<div>\n",
       "<style scoped>\n",
       "    .dataframe tbody tr th:only-of-type {\n",
       "        vertical-align: middle;\n",
       "    }\n",
       "\n",
       "    .dataframe tbody tr th {\n",
       "        vertical-align: top;\n",
       "    }\n",
       "\n",
       "    .dataframe thead th {\n",
       "        text-align: right;\n",
       "    }\n",
       "</style>\n",
       "<table border=\"1\" class=\"dataframe\">\n",
       "  <thead>\n",
       "    <tr style=\"text-align: right;\">\n",
       "      <th></th>\n",
       "      <th>id</th>\n",
       "      <th>sales_hat</th>\n",
       "    </tr>\n",
       "  </thead>\n",
       "  <tbody>\n",
       "    <tr>\n",
       "      <th>0</th>\n",
       "      <td>1226_2024-06-03</td>\n",
       "      <td>54.506500</td>\n",
       "    </tr>\n",
       "    <tr>\n",
       "      <th>1</th>\n",
       "      <td>1226_2024-06-11</td>\n",
       "      <td>54.326000</td>\n",
       "    </tr>\n",
       "    <tr>\n",
       "      <th>2</th>\n",
       "      <td>1226_2024-06-13</td>\n",
       "      <td>77.827613</td>\n",
       "    </tr>\n",
       "    <tr>\n",
       "      <th>3</th>\n",
       "      <td>1226_2024-06-15</td>\n",
       "      <td>53.771300</td>\n",
       "    </tr>\n",
       "    <tr>\n",
       "      <th>4</th>\n",
       "      <td>1226_2024-06-09</td>\n",
       "      <td>55.928500</td>\n",
       "    </tr>\n",
       "  </tbody>\n",
       "</table>\n",
       "</div>"
      ],
      "text/plain": [
       "                id  sales_hat\n",
       "0  1226_2024-06-03  54.506500\n",
       "1  1226_2024-06-11  54.326000\n",
       "2  1226_2024-06-13  77.827613\n",
       "3  1226_2024-06-15  53.771300\n",
       "4  1226_2024-06-09  55.928500"
      ]
     },
     "execution_count": 28,
     "metadata": {},
     "output_type": "execute_result"
    }
   ],
   "source": [
    "submission.head() "
   ]
  },
  {
   "cell_type": "markdown",
   "id": "ba7333cd",
   "metadata": {
    "papermill": {
     "duration": 0.012029,
     "end_time": "2024-12-24T14:20:40.233126",
     "exception": false,
     "start_time": "2024-12-24T14:20:40.221097",
     "status": "completed"
    },
    "tags": []
   },
   "source": [
    "- Total minimum & maximum future sales after prediction"
   ]
  },
  {
   "cell_type": "code",
   "execution_count": 29,
   "id": "64107ef2",
   "metadata": {
    "execution": {
     "iopub.execute_input": "2024-12-24T14:20:40.258601Z",
     "iopub.status.busy": "2024-12-24T14:20:40.258354Z",
     "iopub.status.idle": "2024-12-24T14:20:40.266929Z",
     "shell.execute_reply": "2024-12-24T14:20:40.266126Z"
    },
    "papermill": {
     "duration": 0.022627,
     "end_time": "2024-12-24T14:20:40.268207",
     "exception": false,
     "start_time": "2024-12-24T14:20:40.245580",
     "status": "completed"
    },
    "tags": []
   },
   "outputs": [
    {
     "data": {
      "text/plain": [
       "id           1001_2024-06-03\n",
       "sales_hat             8.3055\n",
       "dtype: object"
      ]
     },
     "execution_count": 29,
     "metadata": {},
     "output_type": "execute_result"
    }
   ],
   "source": [
    "submission.min()"
   ]
  },
  {
   "cell_type": "code",
   "execution_count": 30,
   "id": "3e5b8f97",
   "metadata": {
    "execution": {
     "iopub.execute_input": "2024-12-24T14:20:40.293513Z",
     "iopub.status.busy": "2024-12-24T14:20:40.293275Z",
     "iopub.status.idle": "2024-12-24T14:20:40.301619Z",
     "shell.execute_reply": "2024-12-24T14:20:40.300898Z"
    },
    "papermill": {
     "duration": 0.022359,
     "end_time": "2024-12-24T14:20:40.302903",
     "exception": false,
     "start_time": "2024-12-24T14:20:40.280544",
     "status": "completed"
    },
    "tags": []
   },
   "outputs": [
    {
     "data": {
      "text/plain": [
       "id           9_2024-06-16\n",
       "sales_hat       202.47875\n",
       "dtype: object"
      ]
     },
     "execution_count": 30,
     "metadata": {},
     "output_type": "execute_result"
    }
   ],
   "source": [
    "submission.max()"
   ]
  },
  {
   "cell_type": "code",
   "execution_count": 31,
   "id": "7fb7a329",
   "metadata": {
    "execution": {
     "iopub.execute_input": "2024-12-24T14:20:40.328695Z",
     "iopub.status.busy": "2024-12-24T14:20:40.328464Z",
     "iopub.status.idle": "2024-12-24T14:20:40.420774Z",
     "shell.execute_reply": "2024-12-24T14:20:40.419896Z"
    },
    "papermill": {
     "duration": 0.106585,
     "end_time": "2024-12-24T14:20:40.422243",
     "exception": false,
     "start_time": "2024-12-24T14:20:40.315658",
     "status": "completed"
    },
    "tags": []
   },
   "outputs": [],
   "source": [
    "submission.to_csv('submission.csv', index=False)"
   ]
  }
 ],
 "metadata": {
  "kaggle": {
   "accelerator": "gpu",
   "dataSources": [
    {
     "databundleVersionId": 10173359,
     "sourceId": 88742,
     "sourceType": "competition"
    }
   ],
   "dockerImageVersionId": 30823,
   "isGpuEnabled": true,
   "isInternetEnabled": false,
   "language": "python",
   "sourceType": "notebook"
  },
  "kernelspec": {
   "display_name": "Python 3",
   "language": "python",
   "name": "python3"
  },
  "language_info": {
   "codemirror_mode": {
    "name": "ipython",
    "version": 3
   },
   "file_extension": ".py",
   "mimetype": "text/x-python",
   "name": "python",
   "nbconvert_exporter": "python",
   "pygments_lexer": "ipython3",
   "version": "3.10.12"
  },
  "papermill": {
   "default_parameters": {},
   "duration": 76.44244,
   "end_time": "2024-12-24T14:20:40.953184",
   "environment_variables": {},
   "exception": null,
   "input_path": "__notebook__.ipynb",
   "output_path": "__notebook__.ipynb",
   "parameters": {},
   "start_time": "2024-12-24T14:19:24.510744",
   "version": "2.6.0"
  }
 },
 "nbformat": 4,
 "nbformat_minor": 5
}
